{
 "cells": [
  {
   "cell_type": "code",
   "execution_count": 20,
   "metadata": {},
   "outputs": [],
   "source": [
    "import random\n"
   ]
  },
  {
   "cell_type": "code",
   "execution_count": 23,
   "metadata": {},
   "outputs": [
    {
     "name": "stdout",
     "output_type": "stream",
     "text": [
      "Poniżej mamy liczby z 1 tablicy\n",
      "[199, 192, 879, 996]\n",
      "Poniżej mamy liczby z 2 tablicy\n",
      "[400, 159, 953, 285, 74, 615]\n",
      "Obie tablice-suma\n",
      "[199, 192, 879, 996, 400, 159, 953, 285, 74, 615]\n"
     ]
    }
   ],
   "source": [
    "first = random.sample(range(1000),4)\n",
    "print(\"Poniżej mamy liczby z 1 tablicy\")\n",
    "print(first)\n",
    "second = random.sample(range(1000),6)\n",
    "print(\"Poniżej mamy liczby z 2 tablicy\")\n",
    "print(second)\n",
    "print(\"Obie tablice-suma\")\n",
    "print(first + second)\n"
   ]
  },
  {
   "cell_type": "code",
   "execution_count": 24,
   "metadata": {},
   "outputs": [
    {
     "name": "stdout",
     "output_type": "stream",
     "text": [
      "Różnica między second i first\n"
     ]
    },
    {
     "data": {
      "text/plain": [
       "{74, 159, 285, 400, 615, 953}"
      ]
     },
     "execution_count": 24,
     "metadata": {},
     "output_type": "execute_result"
    }
   ],
   "source": [
    "a = set(first)\n",
    "b = set(second)\n",
    "print(\"Różnica między second i first\")\n",
    "a.difference(b)\n",
    "b.difference(a)"
   ]
  },
  {
   "cell_type": "markdown",
   "metadata": {},
   "source": [
    "# 2 opcja"
   ]
  },
  {
   "cell_type": "code",
   "execution_count": 34,
   "metadata": {},
   "outputs": [
    {
     "name": "stdout",
     "output_type": "stream",
     "text": [
      "[12, 15, 14, 0]\n",
      "[15, 7, 16, 1]\n",
      "[15]\n"
     ]
    }
   ],
   "source": [
    "first = random.sample(range(20), 4)\n",
    "print(first)\n",
    "second = random.sample(range(20), 4)\n",
    "print(second)\n",
    "\n",
    "for num in first:\n",
    "    if num in second:\n",
    "        a = list(set(first).intersection(set(second)))\n",
    "        print(a)"
   ]
  },
  {
   "cell_type": "code",
   "execution_count": null,
   "metadata": {},
   "outputs": [],
   "source": []
  },
  {
   "cell_type": "code",
   "execution_count": null,
   "metadata": {},
   "outputs": [],
   "source": []
  }
 ],
 "metadata": {
  "kernelspec": {
   "display_name": "Python 3",
   "language": "python",
   "name": "python3"
  },
  "language_info": {
   "codemirror_mode": {
    "name": "ipython",
    "version": 3
   },
   "file_extension": ".py",
   "mimetype": "text/x-python",
   "name": "python",
   "nbconvert_exporter": "python",
   "pygments_lexer": "ipython3",
   "version": "3.7.1"
  }
 },
 "nbformat": 4,
 "nbformat_minor": 2
}
